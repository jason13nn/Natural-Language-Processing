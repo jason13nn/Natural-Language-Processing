{
 "cells": [
  {
   "cell_type": "markdown",
   "metadata": {},
   "source": [
    "# Part 2 : Automatic correction"
   ]
  },
  {
   "cell_type": "code",
   "execution_count": 1,
   "metadata": {},
   "outputs": [
    {
     "name": "stderr",
     "output_type": "stream",
     "text": [
      "[nltk_data] Downloading package words to /Users/jason13nn/nltk_data...\n",
      "[nltk_data]   Package words is already up-to-date!\n",
      "[nltk_data] Downloading package punkt to /Users/jason13nn/nltk_data...\n",
      "[nltk_data]   Package punkt is already up-to-date!\n"
     ]
    }
   ],
   "source": [
    "import nltk\n",
    "nltk.download('words')\n",
    "from nltk.corpus import words\n",
    "nltk.download('punkt')\n",
    "from nltk.tokenize import word_tokenize\n",
    "import numpy as np"
   ]
  },
  {
   "cell_type": "code",
   "execution_count": 31,
   "metadata": {},
   "outputs": [],
   "source": [
    "class AutoCorrectText: \n",
    "        \n",
    "    def __init__(self):\n",
    "        pass\n",
    "#----------------------------------------------------------------- \n",
    "    #Find the edit distance between two words\n",
    "    def editDistance(self, str1, str2, deleteCost=1, defaultSubCost=2, subCostList={}): \n",
    "    \n",
    "        #Convert into lowercase\n",
    "    \n",
    "        str1 = str(np.char.lower(str1))\n",
    "        str2 = str(np.char.lower(str2))\n",
    "    \n",
    "        #Creating array (initialized with 0 of dimension of size of both strings)\n",
    "    \n",
    "        matrix = np.zeros((len(str1)+1,len(str2)+1))\n",
    "    \n",
    "    \n",
    "        # Cross relation loop through each character of each string with each other and\n",
    "        # fill the respective index of matrxi (row,column)\n",
    "    \n",
    "        for i in range(len(str1)+1): \n",
    "            for j in range(len(str2)+1): \n",
    "            \n",
    "                #Only string 1 is empty\n",
    "                if i == 0:  \n",
    "                    matrix[i][j] = j  \n",
    "                #Only string 2 is empty\n",
    "                elif j == 0: \n",
    "                    matrix[i][j] = i\n",
    "                #Both strings are empty\n",
    "                elif i ==0 and j ==0:\n",
    "                    matrix[i][j] = np.zeros((i,j))\n",
    "                else: \n",
    "                    # Default cost of insertion/deletion=1 \n",
    "                    insercost = matrix[i][j-1] + deleteCost\n",
    "                    deletecot = matrix[i-1][j] + deleteCost\n",
    "                    if str1[i-1] != str2[j-1]:\n",
    "                        if subCostList == {}:\n",
    "                            #Default cost of substitution=2\n",
    "                            subcost = matrix[i-1][j-1] + defaultSubCost\n",
    "                        else:\n",
    "                            if tuple(sorted([str1[i-1],str2[j-1]])) in subCostList:\n",
    "                                subcost = matrix[i-1][j-1] + subCostList[tuple(sorted([str1[i-1],str2[j-1]]))]\n",
    "                            else:\n",
    "                                subcost = matrix[i-1][j-1] + defaultSubCost\n",
    "                    else:\n",
    "                        subcost = matrix[i-1][j-1] + 0\n",
    "                \n",
    "                    matrix[i][j] = min(insercost,  \n",
    "                                       deletecot,        \n",
    "                                       subcost)     \n",
    "                                         \n",
    "    \n",
    "        return matrix[len(str1)][len(str2)]  # Returning the final\n",
    "#-----------------------------------------------------------------   \n",
    "    #Autocorrect the text\n",
    "    def Correct(self, text):\n",
    "        #Create a dictionary for autocorrect\n",
    "        l = words.words()\n",
    "        #Convert to lower case\n",
    "        l = [w.lower() for w in l] \n",
    "        word = nltk.word_tokenize(text)\n",
    "        word = [v.lower() for v in word]\n",
    "        punctuation = [',', '.', '?', '!', ':', ';', '-']\n",
    "        \n",
    "        pos = []\n",
    "        w1 = []\n",
    "        w2 = []\n",
    "        \n",
    "        for w in word:\n",
    "            if w not in l and w not in punctuation:\n",
    "                #1. The position of the words\n",
    "                ind = word.index(w)\n",
    "                pos.append(ind)\n",
    "                #2. The original word\n",
    "                w1.append(w)\n",
    "                #3. The corrected words\n",
    "                \n",
    "                scores = {}\n",
    "                for d in l:\n",
    "                    scores[d] = self.editDistance(w, d)\n",
    "                    min_dis = min(scores, key = scores.get)\n",
    "                w2.append(min_dis)\n",
    "\n",
    "                #Merge lists into a list of tuples\n",
    "            merged_list = tuple(zip(pos, w1, w2)) \n",
    "        \n",
    "        return merged_list"
   ]
  }
 ],
 "metadata": {
  "kernelspec": {
   "display_name": "Python 3",
   "language": "python",
   "name": "python3"
  },
  "language_info": {
   "codemirror_mode": {
    "name": "ipython",
    "version": 3
   },
   "file_extension": ".py",
   "mimetype": "text/x-python",
   "name": "python",
   "nbconvert_exporter": "python",
   "pygments_lexer": "ipython3",
   "version": "3.7.4"
  }
 },
 "nbformat": 4,
 "nbformat_minor": 2
}
