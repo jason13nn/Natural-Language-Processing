{
 "cells": [
  {
   "cell_type": "code",
   "execution_count": 1,
   "metadata": {},
   "outputs": [
    {
     "name": "stderr",
     "output_type": "stream",
     "text": [
      "[nltk_data] Downloading package genesis to\n",
      "[nltk_data]     /Users/jason13nn/nltk_data...\n",
      "[nltk_data]   Package genesis is already up-to-date!\n"
     ]
    }
   ],
   "source": [
    "import nltk\n",
    "nltk.download('genesis')\n",
    "import numpy as np\n",
    "from nltk.corpus import wordnet as wn\n",
    "from nltk.corpus import genesis"
   ]
  },
  {
   "cell_type": "markdown",
   "metadata": {},
   "source": [
    "## Path similarity"
   ]
  },
  {
   "cell_type": "code",
   "execution_count": 2,
   "metadata": {},
   "outputs": [],
   "source": [
    "def word_path_similarity(w1, w2, pos1 = None, pos2 = None, option = None):\n",
    "    \n",
    "    ##Definition of pos1 and pos2\n",
    "    ADJ, ADJ_SAT, ADV, NOUN, VERB = \"a\", \"s\", \"r\", \"n\", \"v\"\n",
    "    \n",
    "    if pos1 == \"A\" and pos2 == \"A\":\n",
    "        x = wn.synsets(w1, \"a\")  + wn.synsets(w1, \"s\")\n",
    "        y = wn.synsets(w2, \"a\")  + wn.synsets(w2, \"s\")\n",
    "    elif pos1 == \"A\" and pos2 != \"A\":\n",
    "        x = wn.synsets(w1, \"a\")  + wn.synsets(w1, \"s\")\n",
    "        y = wn.synsets(w2, pos2) \n",
    "    elif pos1 != \"A\" and pos2 == \"A\":\n",
    "        x = wn.synsets(w1, pos1) \n",
    "        y = wn.synsets(w2, \"a\")  + wn.synsets(w2, \"s\")\n",
    "    else:\n",
    "        x = wn.synsets(w1, pos1)  \n",
    "        y = wn.synsets(w2, pos2) \n",
    "    \n",
    "    ##Definition of option\n",
    "    #Generate all pairs of two senses\n",
    "    similarity_list = []\n",
    "    \n",
    "    for word1 in x:\n",
    "        pairs = ([word1.path_similarity(word2) for word2 in y if word1.path_similarity(word2) is not None ])\n",
    "        similarity_list.append(pairs)\n",
    "        similarity_list = [i for i in similarity_list if i] \n",
    "        \n",
    "        if option == \"first\":\n",
    "            answer = x[0].path_similarity(y[0])\n",
    "            \n",
    "        elif option == \"avg\":\n",
    "            answer = np.mean([float(sum(col))/len(col) for col in zip(*similarity_list)])\n",
    "            \n",
    "        elif option == \"min\":\n",
    "            answer = min(min(similarity_list))\n",
    "            \n",
    "        elif option == None:\n",
    "            answer = max(max(similarity_list))\n",
    "   \n",
    "    return answer"
   ]
  },
  {
   "cell_type": "markdown",
   "metadata": {},
   "source": [
    "## Wu-Palmer Similarity"
   ]
  },
  {
   "cell_type": "code",
   "execution_count": 3,
   "metadata": {},
   "outputs": [],
   "source": [
    "def word_wup_similarity(w1, w2, pos1 = None, pos2 = None, option = None):\n",
    "    \n",
    "    ##Definition of pos1 and pos2\n",
    "    ADJ, ADJ_SAT, ADV, NOUN, VERB = \"a\", \"s\", \"r\", \"n\", \"v\"\n",
    "    \n",
    "    if pos1 == \"A\" and pos2 == \"A\":\n",
    "        x = wn.synsets(w1, \"a\")  + wn.synsets(w1, \"s\")\n",
    "        y = wn.synsets(w2, \"a\")  + wn.synsets(w2, \"s\")\n",
    "    elif pos1 == \"A\" and pos2 != \"A\":\n",
    "        x = wn.synsets(w1, \"a\")  + wn.synsets(w1, \"s\")\n",
    "        y = wn.synsets(w2, pos2) \n",
    "    elif pos1 != \"A\" and pos2 == \"A\":\n",
    "        x = wn.synsets(w1, pos1) \n",
    "        y = wn.synsets(w2, \"a\")  + wn.synsets(w2, \"s\")\n",
    "    else:\n",
    "        x = wn.synsets(w1, pos1)  \n",
    "        y = wn.synsets(w2, pos2) \n",
    "    \n",
    "    ##Definition of option\n",
    "    #Generate all pairs of two senses\n",
    "    similarity_list = []\n",
    "    \n",
    "    for word1 in x:\n",
    "        pairs = ([word1.wup_similarity(word2) for word2 in y if word1.wup_similarity(word2) is not None ])\n",
    "        similarity_list.append(pairs)\n",
    "        similarity_list = [i for i in similarity_list if i] \n",
    "        \n",
    "        if option == \"first\":\n",
    "            answer = x[0].wup_similarity(y[0])\n",
    "            \n",
    "        elif option == \"avg\":\n",
    "            answer = np.mean([float(sum(col))/len(col) for col in zip(*similarity_list)])\n",
    "            \n",
    "        elif option == \"min\":\n",
    "            answer = min(min(similarity_list))\n",
    "            \n",
    "        elif option == None:\n",
    "            answer = max(max(similarity_list))\n",
    "   \n",
    "    return answer"
   ]
  },
  {
   "cell_type": "markdown",
   "metadata": {},
   "source": [
    "## Leacock-Chodorow Similarity"
   ]
  },
  {
   "cell_type": "code",
   "execution_count": 17,
   "metadata": {},
   "outputs": [],
   "source": [
    "def word_lch_similarity(w1, w2, pos1 = None, pos2 = None, option = None):\n",
    "    \n",
    "    ##Definition of pos1 and pos2\n",
    "    ADJ, ADJ_SAT, ADV, NOUN, VERB = \"a\", \"s\", \"r\", \"n\", \"v\"\n",
    "    \n",
    "    if pos1 == \"A\" and pos2 == \"A\":\n",
    "        x = wn.synsets(w1, \"a\")  + wn.synsets(w1, \"s\")\n",
    "        y = wn.synsets(w2, \"a\")  + wn.synsets(w2, \"s\")\n",
    "    elif pos1 == \"A\" and pos2 != \"A\":\n",
    "        x = wn.synsets(w1, \"a\")  + wn.synsets(w1, \"s\")\n",
    "        y = wn.synsets(w2, pos2) \n",
    "    elif pos1 != \"A\" and pos2 == \"A\":\n",
    "        x = wn.synsets(w1, pos1) \n",
    "        y = wn.synsets(w2, \"a\")  + wn.synsets(w2, \"s\")\n",
    "    else:\n",
    "        x = wn.synsets(w1, pos1)  \n",
    "        y = wn.synsets(w2, pos2) \n",
    "    \n",
    "    ##Definition of option\n",
    "    #Generate all pairs of two senses\n",
    "    similarity_list = []\n",
    "    \n",
    "    for word1 in x:\n",
    "        pairs = ([word1.lch_similarity(word2) for word2 in y if word1.pos() == word2.pos()])\n",
    "        similarity_list.append(pairs)\n",
    "        similarity_list = [i for i in similarity_list if i] \n",
    "        \n",
    "        if option == \"first\":\n",
    "            answer = x[0].lch_similarity(y[0])\n",
    "            \n",
    "        elif option == \"avg\":\n",
    "            answer = np.mean([float(sum(col))/len(col) for col in zip(*similarity_list)])\n",
    "            \n",
    "        elif option == \"min\":\n",
    "            answer = min(min(similarity_list))\n",
    "            \n",
    "        elif option == None:\n",
    "            answer = max(max(similarity_list))\n",
    "   \n",
    "    return answer"
   ]
  },
  {
   "cell_type": "markdown",
   "metadata": {},
   "source": [
    "## Resnik Similarity "
   ]
  },
  {
   "cell_type": "code",
   "execution_count": 13,
   "metadata": {},
   "outputs": [],
   "source": [
    "def word_res_similarity(ic, w1, w2, pos1 = None, pos2 = None, option = None):\n",
    "    \n",
    "    #Create an information content dictionary from a corpus \n",
    "    ic = wn.ic(ic, False, 0.0)\n",
    "    \n",
    "    ##Definition of pos1 and pos2\n",
    "    ADJ, ADJ_SAT, ADV, NOUN, VERB = \"a\", \"s\", \"r\", \"n\", \"v\"\n",
    "    \n",
    "    if pos1 == \"A\" and pos2 == \"A\":\n",
    "        x = wn.synsets(w1, \"a\")  + wn.synsets(w1, \"s\")\n",
    "        y = wn.synsets(w2, \"a\")  + wn.synsets(w2, \"s\")\n",
    "    elif pos1 == \"A\" and pos2 != \"A\":\n",
    "        x = wn.synsets(w1, \"a\")  + wn.synsets(w1, \"s\")\n",
    "        y = wn.synsets(w2, pos2) \n",
    "    elif pos1 != \"A\" and pos2 == \"A\":\n",
    "        x = wn.synsets(w1, pos1) \n",
    "        y = wn.synsets(w2, \"a\")  + wn.synsets(w2, \"s\")\n",
    "    else:\n",
    "        x = wn.synsets(w1, pos1)  \n",
    "        y = wn.synsets(w2, pos2) \n",
    "    \n",
    "    ##Definition of option\n",
    "    #Generate all pairs of two senses\n",
    "    similarity_list = []\n",
    "    \n",
    "    for word1 in x:\n",
    "        pairs = ([word1.res_similarity(word2, ic) for word2 in y if word1.pos() == word2.pos()])\n",
    "        similarity_list.append(pairs)\n",
    "        similarity_list = [i for i in similarity_list if i] \n",
    "        \n",
    "        if option == \"first\":\n",
    "            answer = x[0].res_similarity(y[0], ic)\n",
    "            \n",
    "        elif option == \"avg\":\n",
    "            answer = np.mean([float(sum(col))/len(col) for col in zip(*similarity_list)])\n",
    "            \n",
    "        elif option == \"min\":\n",
    "            answer = min(min(similarity_list))\n",
    "            \n",
    "        elif option == None:\n",
    "            answer = max(max(similarity_list))\n",
    "   \n",
    "    return answer"
   ]
  },
  {
   "cell_type": "markdown",
   "metadata": {},
   "source": [
    "## Example"
   ]
  },
  {
   "cell_type": "code",
   "execution_count": 6,
   "metadata": {},
   "outputs": [],
   "source": [
    "w1='like'\n",
    "w2='love'\n",
    "pos1=None\n",
    "pos2=None\n",
    "option='avg'\n",
    "ic=genesis"
   ]
  },
  {
   "cell_type": "code",
   "execution_count": 7,
   "metadata": {},
   "outputs": [
    {
     "data": {
      "text/plain": [
       "0.0922941476512905"
      ]
     },
     "execution_count": 7,
     "metadata": {},
     "output_type": "execute_result"
    }
   ],
   "source": [
    "word_path_similarity(w1,w2, option=option)"
   ]
  },
  {
   "cell_type": "code",
   "execution_count": 8,
   "metadata": {},
   "outputs": [
    {
     "data": {
      "text/plain": [
       "0.20024181389727605"
      ]
     },
     "execution_count": 8,
     "metadata": {},
     "output_type": "execute_result"
    }
   ],
   "source": [
    "word_wup_similarity(w1,w2, option=option)"
   ]
  },
  {
   "cell_type": "code",
   "execution_count": 18,
   "metadata": {},
   "outputs": [
    {
     "data": {
      "text/plain": [
       "1.4946824541440682"
      ]
     },
     "execution_count": 18,
     "metadata": {},
     "output_type": "execute_result"
    }
   ],
   "source": [
    "word_lch_similarity(w1, w2, option=option)"
   ]
  },
  {
   "cell_type": "code",
   "execution_count": 14,
   "metadata": {},
   "outputs": [
    {
     "data": {
      "text/plain": [
       "0.5606817596183055"
      ]
     },
     "execution_count": 14,
     "metadata": {},
     "output_type": "execute_result"
    }
   ],
   "source": [
    "word_res_similarity(ic=ic, w1=w1,w2=w2, option=option)"
   ]
  }
 ],
 "metadata": {
  "kernelspec": {
   "display_name": "Python 3",
   "language": "python",
   "name": "python3"
  },
  "language_info": {
   "codemirror_mode": {
    "name": "ipython",
    "version": 3
   },
   "file_extension": ".py",
   "mimetype": "text/x-python",
   "name": "python",
   "nbconvert_exporter": "python",
   "pygments_lexer": "ipython3",
   "version": "3.7.4"
  }
 },
 "nbformat": 4,
 "nbformat_minor": 2
}
